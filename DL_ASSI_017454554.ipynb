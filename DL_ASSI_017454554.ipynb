{
 "cells": [
  {
   "cell_type": "code",
   "execution_count": 1,
   "id": "3d73a89a-38f5-423b-9a4c-afed6b130e60",
   "metadata": {},
   "outputs": [
    {
     "name": "stdout",
     "output_type": "stream",
     "text": [
      "Requirement already satisfied: matplotlib in /opt/conda/lib/python3.10/site-packages (3.9.2)\n",
      "Requirement already satisfied: contourpy>=1.0.1 in /opt/conda/lib/python3.10/site-packages (from matplotlib) (1.3.1)\n",
      "Requirement already satisfied: cycler>=0.10 in /opt/conda/lib/python3.10/site-packages (from matplotlib) (0.12.1)\n",
      "Requirement already satisfied: fonttools>=4.22.0 in /opt/conda/lib/python3.10/site-packages (from matplotlib) (4.55.0)\n",
      "Requirement already satisfied: kiwisolver>=1.3.1 in /opt/conda/lib/python3.10/site-packages (from matplotlib) (1.4.7)\n",
      "Requirement already satisfied: numpy>=1.23 in /opt/conda/lib/python3.10/site-packages (from matplotlib) (1.23.5)\n",
      "Requirement already satisfied: packaging>=20.0 in /opt/conda/lib/python3.10/site-packages (from matplotlib) (23.1)\n",
      "Requirement already satisfied: pillow>=8 in /opt/conda/lib/python3.10/site-packages (from matplotlib) (10.0.1)\n",
      "Requirement already satisfied: pyparsing>=2.3.1 in /opt/conda/lib/python3.10/site-packages (from matplotlib) (3.2.0)\n",
      "Requirement already satisfied: python-dateutil>=2.7 in /opt/conda/lib/python3.10/site-packages (from matplotlib) (2.8.2)\n",
      "Requirement already satisfied: six>=1.5 in /opt/conda/lib/python3.10/site-packages (from python-dateutil>=2.7->matplotlib) (1.16.0)\n",
      "\u001b[33mWARNING: Running pip as the 'root' user can result in broken permissions and conflicting behaviour with the system package manager. It is recommended to use a virtual environment instead: https://pip.pypa.io/warnings/venv\u001b[0m\u001b[33m\n",
      "\u001b[0m"
     ]
    }
   ],
   "source": [
    "!pip install matplotlib"
   ]
  },
  {
   "cell_type": "code",
   "execution_count": 2,
   "id": "41a3c682-e1d5-42a1-a1a8-bc08331435ab",
   "metadata": {},
   "outputs": [],
   "source": [
    "# For tips on running notebooks in Google Colab, see\n",
    "# https://pytorch.org/tutorials/beginner/colab\n",
    "%matplotlib inline"
   ]
  },
  {
   "cell_type": "code",
   "execution_count": 3,
   "id": "4de74bf2-664a-47a3-80a2-dce6f3304974",
   "metadata": {},
   "outputs": [
    {
     "name": "stdout",
     "output_type": "stream",
     "text": [
      "Requirement already satisfied: torch==2.0.0 in /opt/conda/lib/python3.10/site-packages (2.0.0)\n",
      "Requirement already satisfied: torchtext==0.15.1 in /opt/conda/lib/python3.10/site-packages (0.15.1)\n",
      "Requirement already satisfied: filelock in /opt/conda/lib/python3.10/site-packages (from torch==2.0.0) (3.13.1)\n",
      "Requirement already satisfied: typing-extensions in /opt/conda/lib/python3.10/site-packages (from torch==2.0.0) (4.7.1)\n",
      "Requirement already satisfied: sympy in /opt/conda/lib/python3.10/site-packages (from torch==2.0.0) (1.12)\n",
      "Requirement already satisfied: networkx in /opt/conda/lib/python3.10/site-packages (from torch==2.0.0) (3.1)\n",
      "Requirement already satisfied: jinja2 in /opt/conda/lib/python3.10/site-packages (from torch==2.0.0) (3.1.2)\n",
      "Requirement already satisfied: nvidia-cuda-nvrtc-cu11==11.7.99 in /opt/conda/lib/python3.10/site-packages (from torch==2.0.0) (11.7.99)\n",
      "Requirement already satisfied: nvidia-cuda-runtime-cu11==11.7.99 in /opt/conda/lib/python3.10/site-packages (from torch==2.0.0) (11.7.99)\n",
      "Requirement already satisfied: nvidia-cuda-cupti-cu11==11.7.101 in /opt/conda/lib/python3.10/site-packages (from torch==2.0.0) (11.7.101)\n",
      "Requirement already satisfied: nvidia-cudnn-cu11==8.5.0.96 in /opt/conda/lib/python3.10/site-packages (from torch==2.0.0) (8.5.0.96)\n",
      "Requirement already satisfied: nvidia-cublas-cu11==11.10.3.66 in /opt/conda/lib/python3.10/site-packages (from torch==2.0.0) (11.10.3.66)\n",
      "Requirement already satisfied: nvidia-cufft-cu11==10.9.0.58 in /opt/conda/lib/python3.10/site-packages (from torch==2.0.0) (10.9.0.58)\n",
      "Requirement already satisfied: nvidia-curand-cu11==10.2.10.91 in /opt/conda/lib/python3.10/site-packages (from torch==2.0.0) (10.2.10.91)\n",
      "Requirement already satisfied: nvidia-cusolver-cu11==11.4.0.1 in /opt/conda/lib/python3.10/site-packages (from torch==2.0.0) (11.4.0.1)\n",
      "Requirement already satisfied: nvidia-cusparse-cu11==11.7.4.91 in /opt/conda/lib/python3.10/site-packages (from torch==2.0.0) (11.7.4.91)\n",
      "Requirement already satisfied: nvidia-nccl-cu11==2.14.3 in /opt/conda/lib/python3.10/site-packages (from torch==2.0.0) (2.14.3)\n",
      "Requirement already satisfied: nvidia-nvtx-cu11==11.7.91 in /opt/conda/lib/python3.10/site-packages (from torch==2.0.0) (11.7.91)\n",
      "Requirement already satisfied: triton==2.0.0 in /opt/conda/lib/python3.10/site-packages (from torch==2.0.0) (2.0.0)\n",
      "Requirement already satisfied: tqdm in /opt/conda/lib/python3.10/site-packages (from torchtext==0.15.1) (4.65.0)\n",
      "Requirement already satisfied: requests in /opt/conda/lib/python3.10/site-packages (from torchtext==0.15.1) (2.31.0)\n",
      "Requirement already satisfied: numpy in /opt/conda/lib/python3.10/site-packages (from torchtext==0.15.1) (1.23.5)\n",
      "Requirement already satisfied: torchdata==0.6.0 in /opt/conda/lib/python3.10/site-packages (from torchtext==0.15.1) (0.6.0)\n",
      "Requirement already satisfied: setuptools in /opt/conda/lib/python3.10/site-packages (from nvidia-cublas-cu11==11.10.3.66->torch==2.0.0) (68.2.2)\n",
      "Requirement already satisfied: wheel in /opt/conda/lib/python3.10/site-packages (from nvidia-cublas-cu11==11.10.3.66->torch==2.0.0) (0.41.2)\n",
      "Requirement already satisfied: urllib3>=1.25 in /opt/conda/lib/python3.10/site-packages (from torchdata==0.6.0->torchtext==0.15.1) (1.26.18)\n",
      "Requirement already satisfied: cmake in /opt/conda/lib/python3.10/site-packages (from triton==2.0.0->torch==2.0.0) (3.31.0.1)\n",
      "Requirement already satisfied: lit in /opt/conda/lib/python3.10/site-packages (from triton==2.0.0->torch==2.0.0) (18.1.8)\n",
      "Requirement already satisfied: MarkupSafe>=2.0 in /opt/conda/lib/python3.10/site-packages (from jinja2->torch==2.0.0) (2.1.1)\n",
      "Requirement already satisfied: charset-normalizer<4,>=2 in /opt/conda/lib/python3.10/site-packages (from requests->torchtext==0.15.1) (2.0.4)\n",
      "Requirement already satisfied: idna<4,>=2.5 in /opt/conda/lib/python3.10/site-packages (from requests->torchtext==0.15.1) (3.4)\n",
      "Requirement already satisfied: certifi>=2017.4.17 in /opt/conda/lib/python3.10/site-packages (from requests->torchtext==0.15.1) (2023.11.17)\n",
      "Requirement already satisfied: mpmath>=0.19 in /opt/conda/lib/python3.10/site-packages (from sympy->torch==2.0.0) (1.3.0)\n",
      "\u001b[33mWARNING: Running pip as the 'root' user can result in broken permissions and conflicting behaviour with the system package manager. It is recommended to use a virtual environment instead: https://pip.pypa.io/warnings/venv\u001b[0m\u001b[33m\n",
      "\u001b[0m"
     ]
    }
   ],
   "source": [
    "!pip install torch==2.0.0 torchtext==0.15.1"
   ]
  },
  {
   "cell_type": "code",
   "execution_count": 4,
   "id": "26da16e0-71cd-4430-b771-3eeffb7f30bc",
   "metadata": {},
   "outputs": [],
   "source": [
    "from torchtext.data.utils import get_tokenizer\n",
    "from torchtext.vocab import build_vocab_from_iterator\n",
    "from torchtext.datasets import multi30k, Multi30k\n",
    "from typing import Iterable, List\n",
    "\n",
    "\n",
    "# We need to modify the URLs for the dataset since the links to the original dataset are broken\n",
    "# Refer to https://github.com/pytorch/text/issues/1756#issuecomment-1163664163 for more info\n",
    "multi30k.URL[\"train\"] = \"https://raw.githubusercontent.com/neychev/small_DL_repo/master/datasets/Multi30k/training.tar.gz\"\n",
    "multi30k.URL[\"valid\"] = \"https://raw.githubusercontent.com/neychev/small_DL_repo/master/datasets/Multi30k/validation.tar.gz\"\n",
    "\n",
    "SRC_LANGUAGE = 'de'\n",
    "TGT_LANGUAGE = 'en'\n",
    "\n",
    "# Place-holders\n",
    "token_transform = {}\n",
    "vocab_transform = {}"
   ]
  },
  {
   "cell_type": "code",
   "execution_count": 5,
   "id": "011eca23-0ba4-4fff-a10f-89fdd94c659f",
   "metadata": {},
   "outputs": [
    {
     "name": "stdout",
     "output_type": "stream",
     "text": [
      "Requirement already satisfied: torchdata==0.6.0 in /opt/conda/lib/python3.10/site-packages (0.6.0)\n",
      "Requirement already satisfied: urllib3>=1.25 in /opt/conda/lib/python3.10/site-packages (from torchdata==0.6.0) (1.26.18)\n",
      "Requirement already satisfied: requests in /opt/conda/lib/python3.10/site-packages (from torchdata==0.6.0) (2.31.0)\n",
      "Requirement already satisfied: torch==2.0.0 in /opt/conda/lib/python3.10/site-packages (from torchdata==0.6.0) (2.0.0)\n",
      "Requirement already satisfied: filelock in /opt/conda/lib/python3.10/site-packages (from torch==2.0.0->torchdata==0.6.0) (3.13.1)\n",
      "Requirement already satisfied: typing-extensions in /opt/conda/lib/python3.10/site-packages (from torch==2.0.0->torchdata==0.6.0) (4.7.1)\n",
      "Requirement already satisfied: sympy in /opt/conda/lib/python3.10/site-packages (from torch==2.0.0->torchdata==0.6.0) (1.12)\n",
      "Requirement already satisfied: networkx in /opt/conda/lib/python3.10/site-packages (from torch==2.0.0->torchdata==0.6.0) (3.1)\n",
      "Requirement already satisfied: jinja2 in /opt/conda/lib/python3.10/site-packages (from torch==2.0.0->torchdata==0.6.0) (3.1.2)\n",
      "Requirement already satisfied: nvidia-cuda-nvrtc-cu11==11.7.99 in /opt/conda/lib/python3.10/site-packages (from torch==2.0.0->torchdata==0.6.0) (11.7.99)\n",
      "Requirement already satisfied: nvidia-cuda-runtime-cu11==11.7.99 in /opt/conda/lib/python3.10/site-packages (from torch==2.0.0->torchdata==0.6.0) (11.7.99)\n",
      "Requirement already satisfied: nvidia-cuda-cupti-cu11==11.7.101 in /opt/conda/lib/python3.10/site-packages (from torch==2.0.0->torchdata==0.6.0) (11.7.101)\n",
      "Requirement already satisfied: nvidia-cudnn-cu11==8.5.0.96 in /opt/conda/lib/python3.10/site-packages (from torch==2.0.0->torchdata==0.6.0) (8.5.0.96)\n",
      "Requirement already satisfied: nvidia-cublas-cu11==11.10.3.66 in /opt/conda/lib/python3.10/site-packages (from torch==2.0.0->torchdata==0.6.0) (11.10.3.66)\n",
      "Requirement already satisfied: nvidia-cufft-cu11==10.9.0.58 in /opt/conda/lib/python3.10/site-packages (from torch==2.0.0->torchdata==0.6.0) (10.9.0.58)\n",
      "Requirement already satisfied: nvidia-curand-cu11==10.2.10.91 in /opt/conda/lib/python3.10/site-packages (from torch==2.0.0->torchdata==0.6.0) (10.2.10.91)\n",
      "Requirement already satisfied: nvidia-cusolver-cu11==11.4.0.1 in /opt/conda/lib/python3.10/site-packages (from torch==2.0.0->torchdata==0.6.0) (11.4.0.1)\n",
      "Requirement already satisfied: nvidia-cusparse-cu11==11.7.4.91 in /opt/conda/lib/python3.10/site-packages (from torch==2.0.0->torchdata==0.6.0) (11.7.4.91)\n",
      "Requirement already satisfied: nvidia-nccl-cu11==2.14.3 in /opt/conda/lib/python3.10/site-packages (from torch==2.0.0->torchdata==0.6.0) (2.14.3)\n",
      "Requirement already satisfied: nvidia-nvtx-cu11==11.7.91 in /opt/conda/lib/python3.10/site-packages (from torch==2.0.0->torchdata==0.6.0) (11.7.91)\n",
      "Requirement already satisfied: triton==2.0.0 in /opt/conda/lib/python3.10/site-packages (from torch==2.0.0->torchdata==0.6.0) (2.0.0)\n",
      "Requirement already satisfied: setuptools in /opt/conda/lib/python3.10/site-packages (from nvidia-cublas-cu11==11.10.3.66->torch==2.0.0->torchdata==0.6.0) (68.2.2)\n",
      "Requirement already satisfied: wheel in /opt/conda/lib/python3.10/site-packages (from nvidia-cublas-cu11==11.10.3.66->torch==2.0.0->torchdata==0.6.0) (0.41.2)\n",
      "Requirement already satisfied: cmake in /opt/conda/lib/python3.10/site-packages (from triton==2.0.0->torch==2.0.0->torchdata==0.6.0) (3.31.0.1)\n",
      "Requirement already satisfied: lit in /opt/conda/lib/python3.10/site-packages (from triton==2.0.0->torch==2.0.0->torchdata==0.6.0) (18.1.8)\n",
      "Requirement already satisfied: charset-normalizer<4,>=2 in /opt/conda/lib/python3.10/site-packages (from requests->torchdata==0.6.0) (2.0.4)\n",
      "Requirement already satisfied: idna<4,>=2.5 in /opt/conda/lib/python3.10/site-packages (from requests->torchdata==0.6.0) (3.4)\n",
      "Requirement already satisfied: certifi>=2017.4.17 in /opt/conda/lib/python3.10/site-packages (from requests->torchdata==0.6.0) (2023.11.17)\n",
      "Requirement already satisfied: MarkupSafe>=2.0 in /opt/conda/lib/python3.10/site-packages (from jinja2->torch==2.0.0->torchdata==0.6.0) (2.1.1)\n",
      "Requirement already satisfied: mpmath>=0.19 in /opt/conda/lib/python3.10/site-packages (from sympy->torch==2.0.0->torchdata==0.6.0) (1.3.0)\n",
      "\u001b[33mWARNING: Running pip as the 'root' user can result in broken permissions and conflicting behaviour with the system package manager. It is recommended to use a virtual environment instead: https://pip.pypa.io/warnings/venv\u001b[0m\u001b[33m\n",
      "\u001b[0m"
     ]
    }
   ],
   "source": [
    "!pip install torchdata==0.6.0"
   ]
  },
  {
   "cell_type": "code",
   "execution_count": 6,
   "id": "ca153f49-ca82-410c-bc47-d32cbc8f6739",
   "metadata": {},
   "outputs": [
    {
     "name": "stdout",
     "output_type": "stream",
     "text": [
      "\u001b[33mWARNING: Running pip as the 'root' user can result in broken permissions and conflicting behaviour with the system package manager. It is recommended to use a virtual environment instead: https://pip.pypa.io/warnings/venv\u001b[0m\u001b[33m\n",
      "\u001b[0m"
     ]
    }
   ],
   "source": [
    "!pip install portalocker>=2.0.0"
   ]
  },
  {
   "cell_type": "code",
   "execution_count": 7,
   "id": "48dd2ec3-1a96-463a-b598-86534d86d0e9",
   "metadata": {},
   "outputs": [
    {
     "name": "stdout",
     "output_type": "stream",
     "text": [
      "Requirement already satisfied: numpy==1.23.5 in /opt/conda/lib/python3.10/site-packages (1.23.5)\n",
      "\u001b[33mWARNING: Running pip as the 'root' user can result in broken permissions and conflicting behaviour with the system package manager. It is recommended to use a virtual environment instead: https://pip.pypa.io/warnings/venv\u001b[0m\u001b[33m\n",
      "\u001b[0m"
     ]
    }
   ],
   "source": [
    "!pip install numpy==1.23.5"
   ]
  },
  {
   "cell_type": "code",
   "execution_count": 8,
   "id": "d6b2c93f-0b4e-4d41-859f-05b9b3047f9a",
   "metadata": {},
   "outputs": [
    {
     "name": "stdout",
     "output_type": "stream",
     "text": [
      "Collecting de-core-news-sm==3.8.0\n",
      "  Downloading https://github.com/explosion/spacy-models/releases/download/de_core_news_sm-3.8.0/de_core_news_sm-3.8.0-py3-none-any.whl (14.6 MB)\n",
      "\u001b[2K     \u001b[90m━━━━━━━━━━━━━━━━━━━━━━━━━━━━━━━━━━━━━━━━\u001b[0m \u001b[32m14.6/14.6 MB\u001b[0m \u001b[31m42.7 MB/s\u001b[0m eta \u001b[36m0:00:00\u001b[0m00:01\u001b[0m00:01\u001b[0m\n",
      "\u001b[?25h\u001b[33mWARNING: Running pip as the 'root' user can result in broken permissions and conflicting behaviour with the system package manager. It is recommended to use a virtual environment instead: https://pip.pypa.io/warnings/venv\u001b[0m\u001b[33m\n",
      "\u001b[0m\u001b[38;5;2m✔ Download and installation successful\u001b[0m\n",
      "You can now load the package via spacy.load('de_core_news_sm')\n",
      "Collecting en-core-web-sm==3.8.0\n",
      "  Downloading https://github.com/explosion/spacy-models/releases/download/en_core_web_sm-3.8.0/en_core_web_sm-3.8.0-py3-none-any.whl (12.8 MB)\n",
      "\u001b[2K     \u001b[90m━━━━━━━━━━━━━━━━━━━━━━━━━━━━━━━━━━━━━━━━\u001b[0m \u001b[32m12.8/12.8 MB\u001b[0m \u001b[31m55.1 MB/s\u001b[0m eta \u001b[36m0:00:00\u001b[0m00:01\u001b[0m00:01\u001b[0m\n",
      "\u001b[?25h\u001b[33mWARNING: Running pip as the 'root' user can result in broken permissions and conflicting behaviour with the system package manager. It is recommended to use a virtual environment instead: https://pip.pypa.io/warnings/venv\u001b[0m\u001b[33m\n",
      "\u001b[0m\u001b[38;5;2m✔ Download and installation successful\u001b[0m\n",
      "You can now load the package via spacy.load('en_core_web_sm')\n"
     ]
    }
   ],
   "source": [
    "!python -m spacy download de_core_news_sm\n",
    "!python -m spacy download en_core_web_sm"
   ]
  },
  {
   "cell_type": "code",
   "execution_count": 9,
   "id": "f22a6413-263b-46e2-8526-b46a3a844a54",
   "metadata": {},
   "outputs": [],
   "source": [
    "token_transform[SRC_LANGUAGE] = get_tokenizer('spacy', language='de_core_news_sm')\n",
    "token_transform[TGT_LANGUAGE] = get_tokenizer('spacy', language='en_core_web_sm')\n",
    "\n",
    "\n",
    "# helper function to yield list of tokens\n",
    "def yield_tokens(data_iter: Iterable, language: str) -> List[str]:\n",
    "    language_index = {SRC_LANGUAGE: 0, TGT_LANGUAGE: 1}\n",
    "\n",
    "    for data_sample in data_iter:\n",
    "        yield token_transform[language](data_sample[language_index[language]])\n",
    "\n",
    "# Define special symbols and indices\n",
    "UNK_IDX, PAD_IDX, BOS_IDX, EOS_IDX = 0, 1, 2, 3\n",
    "# Make sure the tokens are in order of their indices to properly insert them in vocab\n",
    "special_symbols = ['<unk>', '<pad>', '<bos>', '<eos>']\n",
    "\n",
    "\"\"\"\n",
    "Purpose: Defines special tokens used in the vocabulary for machine learning tasks with text data.\n",
    "Special Tokens:\n",
    "<unk>: \"Unknown\" token (represents words not in the vocabulary)\n",
    "<pad>: Padding token (to make sequences the same length)\n",
    "<bos>: \"Beginning of Sequence\"\n",
    "<eos>: \"End of Sequence\"\n",
    "\"\"\"\n",
    "\n",
    "for ln in [SRC_LANGUAGE, TGT_LANGUAGE]:\n",
    "    # Training data Iterator\n",
    "    train_iter = Multi30k(split='train', language_pair=(SRC_LANGUAGE, TGT_LANGUAGE))\n",
    "    # Create torchtext's Vocab object\n",
    "    vocab_transform[ln] = build_vocab_from_iterator(yield_tokens(train_iter, ln),\n",
    "                                                    min_freq=1,\n",
    "                                                    specials=special_symbols,\n",
    "                                                    special_first=True)\n",
    "\n",
    "# Set ``UNK_IDX`` as the default index. This index is returned when the token is not found.\n",
    "# If not set, it throws ``RuntimeError`` when the queried token is not found in the Vocabulary.\n",
    "for ln in [SRC_LANGUAGE, TGT_LANGUAGE]:\n",
    "  vocab_transform[ln].set_default_index(UNK_IDX)"
   ]
  },
  {
   "cell_type": "markdown",
   "id": "eeb0f2a5-718b-420c-bb2b-3bb03a9c3cde",
   "metadata": {},
   "source": [
    "# Seq2Seq Network using Transformer"
   ]
  },
  {
   "cell_type": "code",
   "execution_count": 10,
   "id": "37039dc9-9121-45a7-99f3-e026b84d16db",
   "metadata": {},
   "outputs": [],
   "source": [
    "from torch import Tensor\n",
    "import torch\n",
    "import torch.nn as nn\n",
    "from torch.nn import Transformer\n",
    "import math\n",
    "DEVICE = torch.device('cuda' if torch.cuda.is_available() else 'cpu')\n",
    "\n",
    "# helper Module that adds positional encoding to the token embedding to introduce a notion of word order.\n",
    "class PositionalEncoding(nn.Module):\n",
    "    def __init__(self,\n",
    "                 emb_size: int,\n",
    "                 dropout: float,\n",
    "                 maxlen: int = 5000):\n",
    "        super(PositionalEncoding, self).__init__()\n",
    "        den = torch.exp(- torch.arange(0, emb_size, 2)* math.log(10000) / emb_size)\n",
    "        pos = torch.arange(0, maxlen).reshape(maxlen, 1)\n",
    "        pos_embedding = torch.zeros((maxlen, emb_size))\n",
    "        pos_embedding[:, 0::2] = torch.sin(pos * den)\n",
    "        pos_embedding[:, 1::2] = torch.cos(pos * den)\n",
    "        pos_embedding = pos_embedding.unsqueeze(-2)\n",
    "\n",
    "        self.dropout = nn.Dropout(dropout)\n",
    "        self.register_buffer('pos_embedding', pos_embedding)\n",
    "\n",
    "    def forward(self, token_embedding: Tensor):\n",
    "        return self.dropout(token_embedding + self.pos_embedding[:token_embedding.size(0), :])\n",
    "\n",
    "# helper Module to convert tensor of input indices into corresponding tensor of token embeddings\n",
    "class TokenEmbedding(nn.Module):\n",
    "    def __init__(self, vocab_size: int, emb_size):\n",
    "        super(TokenEmbedding, self).__init__()\n",
    "        self.embedding = nn.Embedding(vocab_size, emb_size)\n",
    "        self.emb_size = emb_size\n",
    "\n",
    "    def forward(self, tokens: Tensor):\n",
    "        return self.embedding(tokens.long()) * math.sqrt(self.emb_size)\n",
    "\n",
    "# Seq2Seq Network\n",
    "class Seq2SeqTransformer(nn.Module):\n",
    "    def __init__(self,\n",
    "                 num_encoder_layers: int,\n",
    "                 num_decoder_layers: int,\n",
    "                 emb_size: int,\n",
    "                 nhead: int,\n",
    "                 src_vocab_size: int,\n",
    "                 tgt_vocab_size: int,\n",
    "                 dim_feedforward: int = 512,\n",
    "                 dropout: float = 0.1):\n",
    "        super(Seq2SeqTransformer, self).__init__()\n",
    "        self.transformer = Transformer(d_model=emb_size,\n",
    "                                       nhead=nhead,\n",
    "                                       num_encoder_layers=num_encoder_layers,\n",
    "                                       num_decoder_layers=num_decoder_layers,\n",
    "                                       dim_feedforward=dim_feedforward,\n",
    "                                       dropout=dropout)\n",
    "        self.generator = nn.Linear(emb_size, tgt_vocab_size)\n",
    "        self.src_tok_emb = TokenEmbedding(src_vocab_size, emb_size)\n",
    "        self.tgt_tok_emb = TokenEmbedding(tgt_vocab_size, emb_size)\n",
    "        self.positional_encoding = PositionalEncoding(\n",
    "            emb_size, dropout=dropout)\n",
    "\n",
    "    def forward(self,\n",
    "                src: Tensor,\n",
    "                trg: Tensor,\n",
    "                src_mask: Tensor,\n",
    "                tgt_mask: Tensor,\n",
    "                src_padding_mask: Tensor,\n",
    "                tgt_padding_mask: Tensor,\n",
    "                memory_key_padding_mask: Tensor):\n",
    "        src_emb = self.positional_encoding(self.src_tok_emb(src))\n",
    "        tgt_emb = self.positional_encoding(self.tgt_tok_emb(trg))\n",
    "        outs = self.transformer(src_emb, tgt_emb, src_mask, tgt_mask, None,\n",
    "                                src_padding_mask, tgt_padding_mask, memory_key_padding_mask)\n",
    "        return self.generator(outs)\n",
    "\n",
    "    def encode(self, src: Tensor, src_mask: Tensor):\n",
    "        return self.transformer.encoder(self.positional_encoding(\n",
    "                            self.src_tok_emb(src)), src_mask)\n",
    "\n",
    "    def decode(self, tgt: Tensor, memory: Tensor, tgt_mask: Tensor):\n",
    "        return self.transformer.decoder(self.positional_encoding(\n",
    "                          self.tgt_tok_emb(tgt)), memory,\n",
    "                          tgt_mask)"
   ]
  },
  {
   "cell_type": "code",
   "execution_count": 11,
   "id": "fed32f8c-3949-4631-95a1-fa6ee469148f",
   "metadata": {},
   "outputs": [],
   "source": [
    "def generate_square_subsequent_mask(sz):\n",
    "    mask = (torch.triu(torch.ones((sz, sz), device=DEVICE)) == 1).transpose(0, 1)\n",
    "    mask = mask.float().masked_fill(mask == 0, float('-inf')).masked_fill(mask == 1, float(0.0))\n",
    "    return mask\n",
    "\n",
    "\n",
    "def create_mask(src, tgt):\n",
    "    src_seq_len = src.shape[0]\n",
    "    tgt_seq_len = tgt.shape[0]\n",
    "\n",
    "    tgt_mask = generate_square_subsequent_mask(tgt_seq_len)\n",
    "    src_mask = torch.zeros((src_seq_len, src_seq_len),device=DEVICE).type(torch.bool)\n",
    "\n",
    "    src_padding_mask = (src == PAD_IDX).transpose(0, 1)\n",
    "    tgt_padding_mask = (tgt == PAD_IDX).transpose(0, 1)\n",
    "    return src_mask, tgt_mask, src_padding_mask, tgt_padding_mask"
   ]
  },
  {
   "cell_type": "code",
   "execution_count": 12,
   "id": "1d9777d0-6a46-4c11-a362-3738de979b8c",
   "metadata": {},
   "outputs": [],
   "source": [
    "torch.manual_seed(0)\n",
    "\n",
    "SRC_VOCAB_SIZE = len(vocab_transform[SRC_LANGUAGE])\n",
    "TGT_VOCAB_SIZE = len(vocab_transform[TGT_LANGUAGE])\n",
    "EMB_SIZE = 512\n",
    "NHEAD = 8\n",
    "FFN_HID_DIM = 512\n",
    "BATCH_SIZE = 128\n",
    "NUM_ENCODER_LAYERS = 3\n",
    "NUM_DECODER_LAYERS = 3\n",
    "\n",
    "transformer = Seq2SeqTransformer(NUM_ENCODER_LAYERS, NUM_DECODER_LAYERS, EMB_SIZE,\n",
    "                                 NHEAD, SRC_VOCAB_SIZE, TGT_VOCAB_SIZE, FFN_HID_DIM)\n",
    "\n",
    "for p in transformer.parameters():\n",
    "    if p.dim() > 1:\n",
    "        nn.init.xavier_uniform_(p)\n",
    "\n",
    "transformer = transformer.to(DEVICE)\n",
    "\n",
    "loss_fn = torch.nn.CrossEntropyLoss(ignore_index=PAD_IDX)\n",
    "\n",
    "optimizer = torch.optim.Adam(transformer.parameters(), lr=0.0001, betas=(0.9, 0.98), eps=1e-9)"
   ]
  },
  {
   "cell_type": "code",
   "execution_count": 13,
   "id": "600268f6-1d44-48bb-958a-33bdb78b2600",
   "metadata": {},
   "outputs": [],
   "source": [
    "from torch.nn.utils.rnn import pad_sequence\n",
    "\n",
    "# helper function to club together sequential operations\n",
    "def sequential_transforms(*transforms):\n",
    "    def func(txt_input):\n",
    "        for transform in transforms:\n",
    "            txt_input = transform(txt_input)\n",
    "        return txt_input\n",
    "    return func\n",
    "\n",
    "# function to add BOS/EOS and create tensor for input sequence indices\n",
    "def tensor_transform(token_ids: List[int]):\n",
    "    return torch.cat((torch.tensor([BOS_IDX]),\n",
    "                      torch.tensor(token_ids),\n",
    "                      torch.tensor([EOS_IDX])))\n",
    "\n",
    "# ``src`` and ``tgt`` language text transforms to convert raw strings into tensors indices\n",
    "text_transform = {}\n",
    "for ln in [SRC_LANGUAGE, TGT_LANGUAGE]:\n",
    "    text_transform[ln] = sequential_transforms(token_transform[ln], #Tokenization\n",
    "                                               vocab_transform[ln], #Numericalization\n",
    "                                               tensor_transform) # Add BOS/EOS and create tensor\n",
    "\n",
    "\n",
    "# function to collate data samples into batch tensors\n",
    "def collate_fn(batch):\n",
    "    src_batch, tgt_batch = [], []\n",
    "    for src_sample, tgt_sample in batch:\n",
    "        src_batch.append(text_transform[SRC_LANGUAGE](src_sample.rstrip(\"\\n\")))\n",
    "        tgt_batch.append(text_transform[TGT_LANGUAGE](tgt_sample.rstrip(\"\\n\")))\n",
    "\n",
    "    src_batch = pad_sequence(src_batch, padding_value=PAD_IDX)\n",
    "    tgt_batch = pad_sequence(tgt_batch, padding_value=PAD_IDX)\n",
    "    return src_batch, tgt_batch"
   ]
  },
  {
   "cell_type": "code",
   "execution_count": 14,
   "id": "6828d84a-db31-442c-89ba-25c7287d47b6",
   "metadata": {},
   "outputs": [],
   "source": [
    "from torch.utils.data import DataLoader\n",
    "\n",
    "def train_epoch(model, optimizer):\n",
    "    model.train()\n",
    "    losses = 0\n",
    "    train_iter = Multi30k(split='train', language_pair=(SRC_LANGUAGE, TGT_LANGUAGE))\n",
    "    train_dataloader = DataLoader(train_iter, batch_size=BATCH_SIZE, collate_fn=collate_fn)\n",
    "\n",
    "    for src, tgt in train_dataloader:\n",
    "        src = src.to(DEVICE)\n",
    "        tgt = tgt.to(DEVICE)\n",
    "\n",
    "        tgt_input = tgt[:-1, :]\n",
    "\n",
    "        src_mask, tgt_mask, src_padding_mask, tgt_padding_mask = create_mask(src, tgt_input)\n",
    "\n",
    "        logits = model(src, tgt_input, src_mask, tgt_mask,src_padding_mask, tgt_padding_mask, src_padding_mask)\n",
    "\n",
    "        optimizer.zero_grad()\n",
    "\n",
    "        tgt_out = tgt[1:, :]\n",
    "        loss = loss_fn(logits.reshape(-1, logits.shape[-1]), tgt_out.reshape(-1))\n",
    "        loss.backward()\n",
    "\n",
    "        optimizer.step()\n",
    "        losses += loss.item()\n",
    "\n",
    "    return losses / len(list(train_dataloader))\n",
    "\n",
    "\n",
    "def evaluate(model):\n",
    "    model.eval()\n",
    "    losses = 0\n",
    "\n",
    "    val_iter = Multi30k(split='valid', language_pair=(SRC_LANGUAGE, TGT_LANGUAGE))\n",
    "    val_dataloader = DataLoader(val_iter, batch_size=BATCH_SIZE, collate_fn=collate_fn)\n",
    "\n",
    "    for src, tgt in val_dataloader:\n",
    "        src = src.to(DEVICE)\n",
    "        tgt = tgt.to(DEVICE)\n",
    "\n",
    "        tgt_input = tgt[:-1, :]\n",
    "\n",
    "        src_mask, tgt_mask, src_padding_mask, tgt_padding_mask = create_mask(src, tgt_input)\n",
    "\n",
    "        logits = model(src, tgt_input, src_mask, tgt_mask,src_padding_mask, tgt_padding_mask, src_padding_mask)\n",
    "\n",
    "        tgt_out = tgt[1:, :]\n",
    "        loss = loss_fn(logits.reshape(-1, logits.shape[-1]), tgt_out.reshape(-1))\n",
    "        losses += loss.item()\n",
    "\n",
    "    return losses / len(list(val_dataloader))"
   ]
  },
  {
   "cell_type": "code",
   "execution_count": 15,
   "id": "23430f1e-a17f-4acc-8bc1-4882aeb1ec42",
   "metadata": {},
   "outputs": [
    {
     "name": "stderr",
     "output_type": "stream",
     "text": [
      "/opt/conda/lib/python3.10/site-packages/torch/nn/functional.py:4999: UserWarning: Support for mismatched src_key_padding_mask and src_mask is deprecated. Use same type for both instead.\n",
      "  warnings.warn(\n",
      "/opt/conda/lib/python3.10/site-packages/torch/nn/functional.py:4999: UserWarning: Support for mismatched key_padding_mask and attn_mask is deprecated. Use same type for both instead.\n",
      "  warnings.warn(\n",
      "/opt/conda/lib/python3.10/site-packages/torch/utils/data/datapipes/iter/combining.py:297: UserWarning: Some child DataPipes are not exhausted when __iter__ is called. We are resetting the buffer and each child DataPipe will read from the start again.\n",
      "  warnings.warn(\"Some child DataPipes are not exhausted when __iter__ is called. We are resetting \"\n"
     ]
    },
    {
     "name": "stdout",
     "output_type": "stream",
     "text": [
      "Epoch: 1, Train loss: 5.344, Val loss: 4.117, Epoch time = 10.569s\n",
      "Epoch: 2, Train loss: 3.768, Val loss: 3.326, Epoch time = 10.161s\n",
      "Epoch: 3, Train loss: 3.165, Val loss: 2.892, Epoch time = 10.159s\n",
      "Epoch: 4, Train loss: 2.770, Val loss: 2.634, Epoch time = 10.014s\n",
      "Epoch: 5, Train loss: 2.481, Val loss: 2.448, Epoch time = 10.158s\n",
      "Epoch: 6, Train loss: 2.249, Val loss: 2.313, Epoch time = 10.062s\n",
      "Epoch: 7, Train loss: 2.058, Val loss: 2.195, Epoch time = 10.259s\n",
      "Epoch: 8, Train loss: 1.895, Val loss: 2.116, Epoch time = 10.225s\n",
      "Epoch: 9, Train loss: 1.755, Val loss: 2.052, Epoch time = 10.080s\n",
      "Epoch: 10, Train loss: 1.633, Val loss: 2.003, Epoch time = 10.278s\n",
      "Epoch: 11, Train loss: 1.523, Val loss: 1.971, Epoch time = 10.136s\n",
      "Epoch: 12, Train loss: 1.420, Val loss: 1.966, Epoch time = 10.112s\n",
      "Epoch: 13, Train loss: 1.335, Val loss: 1.956, Epoch time = 10.150s\n",
      "Epoch: 14, Train loss: 1.250, Val loss: 1.919, Epoch time = 10.111s\n",
      "Epoch: 15, Train loss: 1.168, Val loss: 1.900, Epoch time = 10.227s\n",
      "Epoch: 16, Train loss: 1.101, Val loss: 1.899, Epoch time = 10.330s\n",
      "Epoch: 17, Train loss: 1.034, Val loss: 1.903, Epoch time = 10.306s\n",
      "Epoch: 18, Train loss: 0.974, Val loss: 1.915, Epoch time = 10.701s\n"
     ]
    }
   ],
   "source": [
    "from timeit import default_timer as timer\n",
    "NUM_EPOCHS = 18\n",
    "\n",
    "for epoch in range(1, NUM_EPOCHS+1):\n",
    "    start_time = timer()\n",
    "    train_loss = train_epoch(transformer, optimizer)\n",
    "    end_time = timer()\n",
    "    val_loss = evaluate(transformer)\n",
    "    print((f\"Epoch: {epoch}, Train loss: {train_loss:.3f}, Val loss: {val_loss:.3f}, \"f\"Epoch time = {(end_time - start_time):.3f}s\"))\n",
    "\n",
    "\n",
    "# function to generate output sequence using greedy algorithm\n",
    "def greedy_decode(model, src, src_mask, max_len, start_symbol):\n",
    "    src = src.to(DEVICE)\n",
    "    src_mask = src_mask.to(DEVICE)\n",
    "\n",
    "    memory = model.encode(src, src_mask)\n",
    "    ys = torch.ones(1, 1).fill_(start_symbol).type(torch.long).to(DEVICE)\n",
    "    for i in range(max_len-1):\n",
    "        memory = memory.to(DEVICE)\n",
    "        tgt_mask = (generate_square_subsequent_mask(ys.size(0))\n",
    "                    .type(torch.bool)).to(DEVICE)\n",
    "        out = model.decode(ys, memory, tgt_mask)\n",
    "        out = out.transpose(0, 1)\n",
    "        prob = model.generator(out[:, -1])\n",
    "        _, next_word = torch.max(prob, dim=1)\n",
    "        next_word = next_word.item()\n",
    "\n",
    "        ys = torch.cat([ys,\n",
    "                        torch.ones(1, 1).type_as(src.data).fill_(next_word)], dim=0)\n",
    "        if next_word == EOS_IDX:\n",
    "            break\n",
    "    return ys\n",
    "\n",
    "\n",
    "# actual function to translate input sentence into target language\n",
    "def translate(model: torch.nn.Module, src_sentence: str):\n",
    "    model.eval()\n",
    "    src = text_transform[SRC_LANGUAGE](src_sentence).view(-1, 1)\n",
    "    num_tokens = src.shape[0]\n",
    "    src_mask = (torch.zeros(num_tokens, num_tokens)).type(torch.bool)\n",
    "    tgt_tokens = greedy_decode(\n",
    "        model,  src, src_mask, max_len=num_tokens + 5, start_symbol=BOS_IDX).flatten()\n",
    "    return \" \".join(vocab_transform[TGT_LANGUAGE].lookup_tokens(list(tgt_tokens.cpu().numpy()))).replace(\"<bos>\", \"\").replace(\"<eos>\", \"\")"
   ]
  },
  {
   "cell_type": "code",
   "execution_count": 16,
   "id": "e8a872bf-fdc8-40ec-a2a2-60a25fd0414f",
   "metadata": {},
   "outputs": [
    {
     "name": "stdout",
     "output_type": "stream",
     "text": [
      " A group of people stand in front of an igloo \n"
     ]
    }
   ],
   "source": [
    "print(translate(transformer, \"Eine Gruppe von Menschen steht vor einem Iglu\"))"
   ]
  },
  {
   "cell_type": "code",
   "execution_count": 17,
   "id": "40821fc6-3d29-4e2a-a346-ca15d48293d8",
   "metadata": {},
   "outputs": [
    {
     "name": "stdout",
     "output_type": "stream",
     "text": [
      " Two dogs are sleeping . \n"
     ]
    }
   ],
   "source": [
    "print(translate(transformer, \"Zwei Hunde schlafen .\"))"
   ]
  },
  {
   "cell_type": "markdown",
   "id": "9a7bc5f8-ed84-4c0a-851e-c7c39e3fdfa8",
   "metadata": {},
   "source": [
    "# English to German\n"
   ]
  },
  {
   "cell_type": "code",
   "execution_count": 18,
   "id": "56e1ab10-8c58-4b2c-ab48-7bb316c24936",
   "metadata": {},
   "outputs": [
    {
     "name": "stdout",
     "output_type": "stream",
     "text": [
      "Epoch: 1, Train loss: 5.902, Val loss: 4.677, Epoch time = 11.390s\n",
      "Epoch: 2, Train loss: 4.138, Val loss: 3.765, Epoch time = 11.129s\n",
      "Epoch: 3, Train loss: 3.464, Val loss: 3.311, Epoch time = 11.025s\n",
      "Epoch: 4, Train loss: 3.024, Val loss: 3.014, Epoch time = 11.237s\n",
      "Epoch: 5, Train loss: 2.700, Val loss: 2.811, Epoch time = 11.126s\n",
      "Epoch: 6, Train loss: 2.451, Val loss: 2.668, Epoch time = 11.248s\n",
      "Epoch: 7, Train loss: 2.241, Val loss: 2.526, Epoch time = 11.028s\n",
      "Epoch: 8, Train loss: 2.065, Val loss: 2.425, Epoch time = 10.884s\n",
      "Epoch: 9, Train loss: 1.914, Val loss: 2.332, Epoch time = 11.279s\n",
      "Epoch: 10, Train loss: 1.779, Val loss: 2.244, Epoch time = 10.988s\n",
      "Epoch: 11, Train loss: 1.660, Val loss: 2.210, Epoch time = 10.932s\n",
      "Epoch: 12, Train loss: 1.553, Val loss: 2.192, Epoch time = 10.958s\n",
      "Epoch: 13, Train loss: 1.459, Val loss: 2.167, Epoch time = 10.913s\n"
     ]
    }
   ],
   "source": [
    "# Updated model names and variables for English-to-German translation\n",
    "SRC_LANG_EN_TO_DE = 'en'\n",
    "TGT_LANG_EN_TO_DE = 'de'\n",
    "\n",
    "# Place-holders\n",
    "token_map_en_to_de = {}\n",
    "vocab_map_en_to_de = {}\n",
    "\n",
    "# Tokenization setup\n",
    "token_map_en_to_de[SRC_LANG_EN_TO_DE] = get_tokenizer('spacy', language='en_core_web_sm')\n",
    "token_map_en_to_de[TGT_LANG_EN_TO_DE] = get_tokenizer('spacy', language='de_core_news_sm')\n",
    "\n",
    "# Helper function for token yielding\n",
    "def generate_tokens_en_to_de(data_iter: Iterable, lang: str) -> List[str]:\n",
    "    lang_index = {SRC_LANG_EN_TO_DE: 0, TGT_LANG_EN_TO_DE: 1}\n",
    "\n",
    "    for data_item in data_iter:\n",
    "        yield token_map_en_to_de[lang](data_item[lang_index[lang]])\n",
    "\n",
    "# Build vocab for English-to-German first\n",
    "for ln in [SRC_LANG_EN_TO_DE, TGT_LANG_EN_TO_DE]:\n",
    "    train_iter_en_to_de = Multi30k(split='train', language_pair=(SRC_LANG_EN_TO_DE, TGT_LANG_EN_TO_DE))\n",
    "    vocab_map_en_to_de[ln] = build_vocab_from_iterator(\n",
    "        generate_tokens_en_to_de(train_iter_en_to_de, ln),\n",
    "        min_freq=1,\n",
    "        specials=special_symbols,\n",
    "        special_first=True\n",
    "    )\n",
    "\n",
    "# Set default index for unknown tokens in the vocab\n",
    "for ln in [SRC_LANG_EN_TO_DE, TGT_LANG_EN_TO_DE]:\n",
    "    vocab_map_en_to_de[ln].set_default_index(UNK_IDX)\n",
    "\n",
    "# Now define `transform_text_en_to_de` after the vocab is ready\n",
    "transform_text_en_to_de = {}\n",
    "for ln in [SRC_LANG_EN_TO_DE, TGT_LANG_EN_TO_DE]:\n",
    "    transform_text_en_to_de[ln] = sequential_transforms(\n",
    "        token_map_en_to_de[ln],  # Tokenization\n",
    "        vocab_map_en_to_de[ln],  # Numericalization\n",
    "        tensor_transform  # Add BOS/EOS and create tensor\n",
    "    )\n",
    "\n",
    "# Updated transformer class for English-to-German\n",
    "class TransformerModelEnToDe(nn.Module):\n",
    "    def __init__(self,\n",
    "                 encoder_layers: int,\n",
    "                 decoder_layers: int,\n",
    "                 embedding_size: int,\n",
    "                 num_heads: int,\n",
    "                 source_vocab_size: int,\n",
    "                 target_vocab_size: int,\n",
    "                 feedforward_dim: int = 512,\n",
    "                 dropout_rate: float = 0.1):\n",
    "        super(TransformerModelEnToDe, self).__init__()\n",
    "        self.transformer = Transformer(d_model=embedding_size,\n",
    "                                       nhead=num_heads,\n",
    "                                       num_encoder_layers=encoder_layers,\n",
    "                                       num_decoder_layers=decoder_layers,\n",
    "                                       dim_feedforward=feedforward_dim,\n",
    "                                       dropout=dropout_rate)\n",
    "        self.output_layer = nn.Linear(embedding_size, target_vocab_size)\n",
    "        self.src_embedding = TokenEmbedding(source_vocab_size, embedding_size)\n",
    "        self.tgt_embedding = TokenEmbedding(target_vocab_size, embedding_size)\n",
    "        self.positional_encoding = PositionalEncoding(embedding_size, dropout=dropout_rate)\n",
    "\n",
    "    def forward(self,\n",
    "                source: Tensor,\n",
    "                target: Tensor,\n",
    "                source_mask: Tensor,\n",
    "                target_mask: Tensor,\n",
    "                source_padding_mask: Tensor,\n",
    "                target_padding_mask: Tensor,\n",
    "                memory_key_padding_mask: Tensor):\n",
    "        source_emb = self.positional_encoding(self.src_embedding(source))\n",
    "        target_emb = self.positional_encoding(self.tgt_embedding(target))\n",
    "        outputs = self.transformer(source_emb, target_emb, source_mask, target_mask, None,\n",
    "                                   source_padding_mask, target_padding_mask, memory_key_padding_mask)\n",
    "        return self.output_layer(outputs)\n",
    "\n",
    "    def encode(self, source: Tensor, source_mask: Tensor):\n",
    "        return self.transformer.encoder(self.positional_encoding(\n",
    "            self.src_embedding(source)), source_mask)\n",
    "\n",
    "    def decode(self, target: Tensor, memory: Tensor, target_mask: Tensor):\n",
    "        return self.transformer.decoder(self.positional_encoding(\n",
    "            self.tgt_embedding(target)), memory, target_mask)\n",
    "\n",
    "# Initialize the English-to-German transformer\n",
    "SOURCE_VOCAB_SIZE_EN_TO_DE = len(vocab_map_en_to_de[SRC_LANG_EN_TO_DE])\n",
    "TARGET_VOCAB_SIZE_EN_TO_DE = len(vocab_map_en_to_de[TGT_LANG_EN_TO_DE])\n",
    "transformer_model_en_to_de = TransformerModelEnToDe(\n",
    "    NUM_ENCODER_LAYERS, NUM_DECODER_LAYERS, EMB_SIZE, NHEAD, SOURCE_VOCAB_SIZE_EN_TO_DE, TARGET_VOCAB_SIZE_EN_TO_DE, FFN_HID_DIM\n",
    ")\n",
    "\n",
    "# Initialize parameters\n",
    "for param in transformer_model_en_to_de.parameters():\n",
    "    if param.dim() > 1:\n",
    "        nn.init.xavier_uniform_(param)\n",
    "\n",
    "transformer_model_en_to_de = transformer_model_en_to_de.to(DEVICE)\n",
    "\n",
    "loss_function_en_to_de = torch.nn.CrossEntropyLoss(ignore_index=PAD_IDX)\n",
    "optimizer_model_en_to_de = torch.optim.Adam(transformer_model_en_to_de.parameters(), lr=0.0001, betas=(0.9, 0.98), eps=1e-9)\n",
    "\n",
    "# Updated collate function for English-to-German\n",
    "def collate_batch_en_to_de(batch):\n",
    "    source_batch, target_batch = [], []\n",
    "    for source_item, target_item in batch:\n",
    "        source_batch.append(transform_text_en_to_de[SRC_LANG_EN_TO_DE](source_item.rstrip(\"\\n\")))\n",
    "        target_batch.append(transform_text_en_to_de[TGT_LANG_EN_TO_DE](target_item.rstrip(\"\\n\")))\n",
    "\n",
    "    source_batch = pad_sequence(source_batch, padding_value=PAD_IDX)\n",
    "    target_batch = pad_sequence(target_batch, padding_value=PAD_IDX)\n",
    "    return source_batch, target_batch\n",
    "\n",
    "# Training and evaluation loops for English-to-German\n",
    "def train_loop_en_to_de(model, optimizer):\n",
    "    model.train()\n",
    "    total_loss = 0\n",
    "    train_iter = Multi30k(split='train', language_pair=(SRC_LANG_EN_TO_DE, TGT_LANG_EN_TO_DE))\n",
    "    train_loader = DataLoader(train_iter, batch_size=BATCH_SIZE, collate_fn=collate_batch_en_to_de)\n",
    "\n",
    "    for source, target in train_loader:\n",
    "        source = source.to(DEVICE)\n",
    "        target = target.to(DEVICE)\n",
    "\n",
    "        target_input = target[:-1, :]\n",
    "\n",
    "        source_mask, target_mask, source_padding_mask, target_padding_mask = create_mask(source, target_input)\n",
    "\n",
    "        predictions = model(source, target_input, source_mask, target_mask, source_padding_mask, target_padding_mask, source_padding_mask)\n",
    "\n",
    "        optimizer.zero_grad()\n",
    "\n",
    "        target_output = target[1:, :]\n",
    "        loss = loss_function_en_to_de(predictions.reshape(-1, predictions.shape[-1]), target_output.reshape(-1))\n",
    "        loss.backward()\n",
    "\n",
    "        optimizer.step()\n",
    "        total_loss += loss.item()\n",
    "\n",
    "    return total_loss / len(list(train_loader))\n",
    "\n",
    "\n",
    "def eval_loop_en_to_de(model):\n",
    "    model.eval()\n",
    "    total_loss = 0\n",
    "\n",
    "    val_iter = Multi30k(split='valid', language_pair=(SRC_LANG_EN_TO_DE, TGT_LANG_EN_TO_DE))\n",
    "    val_loader = DataLoader(val_iter, batch_size=BATCH_SIZE, collate_fn=collate_batch_en_to_de)\n",
    "\n",
    "    for source, target in val_loader:\n",
    "        source = source.to(DEVICE)\n",
    "        target = target.to(DEVICE)\n",
    "\n",
    "        target_input = target[:-1, :]\n",
    "\n",
    "        source_mask, target_mask, source_padding_mask, target_padding_mask = create_mask(source, target_input)\n",
    "\n",
    "        predictions = model(source, target_input, source_mask, target_mask, source_padding_mask, target_padding_mask, source_padding_mask)\n",
    "\n",
    "        target_output = target[1:, :]\n",
    "        loss = loss_function_en_to_de(predictions.reshape(-1, predictions.shape[-1]), target_output.reshape(-1))\n",
    "        total_loss += loss.item()\n",
    "\n",
    "    return total_loss / len(list(val_loader))\n",
    "\n",
    "# Translate function for English-to-German\n",
    "def perform_translation_en_to_de(model: torch.nn.Module, source_sentence: str):\n",
    "    model.eval()\n",
    "    source = transform_text_en_to_de[SRC_LANG_EN_TO_DE](source_sentence).view(-1, 1)\n",
    "    num_tokens = source.shape[0]\n",
    "    source_mask = (torch.zeros(num_tokens, num_tokens)).type(torch.bool)\n",
    "    target_tokens = greedy_decode1(\n",
    "        model, source, source_mask, max_len=num_tokens + 5, start_symbol=BOS_IDX\n",
    "    ).flatten()\n",
    "    return \" \".join(vocab_map_en_to_de[TGT_LANG_EN_TO_DE].lookup_tokens(list(target_tokens.cpu().numpy()))).replace(\"<bos>\", \"\").replace(\"<eos>\", \"\")\n",
    "\n",
    "# Number of epochs for English-to-German\n",
    "EPOCHS_EN_TO_DE = 13\n",
    "\n",
    "# Training loop for English-to-German\n",
    "for epoch in range(1, EPOCHS_EN_TO_DE + 1):\n",
    "    start_time = timer()\n",
    "    training_loss = train_loop_en_to_de(transformer_model_en_to_de, optimizer_model_en_to_de)\n",
    "    end_time = timer()\n",
    "    validation_loss = eval_loop_en_to_de(transformer_model_en_to_de)\n",
    "    print(\n",
    "        f\"Epoch: {epoch}, Train loss: {training_loss:.3f}, Val loss: {validation_loss:.3f}, \"\n",
    "        f\"Epoch time = {(end_time - start_time):.3f}s\"\n",
    "    )\n"
   ]
  },
  {
   "cell_type": "code",
   "execution_count": 19,
   "id": "71129589-b1a0-4817-9a5d-d0f137d2a04a",
   "metadata": {},
   "outputs": [],
   "source": [
    "def greedy_decode1(model, src, src_mask, max_len, start_symbol):\n",
    "    src = src.to(DEVICE)\n",
    "    src_mask = src_mask.to(DEVICE)\n",
    "\n",
    "    memory = model.encode(src, src_mask)\n",
    "    ys = torch.ones(1, 1).fill_(start_symbol).type(torch.long).to(DEVICE)\n",
    "    for i in range(max_len - 1):\n",
    "        tgt_mask = (generate_square_subsequent_mask(ys.size(0))\n",
    "                    .type(torch.bool)).to(DEVICE)\n",
    "        out = model.decode(ys, memory, tgt_mask)\n",
    "        out = out.transpose(0, 1)\n",
    "        prob = model.output_layer(out[:, -1])  # Use output_layer here\n",
    "        _, next_word = torch.max(prob, dim=1)\n",
    "        next_word = next_word.item()\n",
    "\n",
    "        ys = torch.cat([ys, torch.ones(1, 1).fill_(next_word).type(torch.long).to(DEVICE)], dim=0)\n",
    "        if next_word == EOS_IDX:\n",
    "            break\n",
    "    return ys\n"
   ]
  },
  {
   "cell_type": "markdown",
   "id": "a3d49127-0869-4912-8e2f-db5dd99864bd",
   "metadata": {},
   "source": [
    "# Comparing the results"
   ]
  },
  {
   "cell_type": "code",
   "execution_count": 20,
   "id": "4c844700-57a9-4280-b012-73784e06db80",
   "metadata": {},
   "outputs": [
    {
     "data": {
      "text/plain": [
       "' Ein Hund schläft . '"
      ]
     },
     "execution_count": 20,
     "metadata": {},
     "output_type": "execute_result"
    }
   ],
   "source": [
    "x= perform_translation_en_to_de(transformer_model_en_to_de, \"This dog is sleeping . \")\n",
    "x"
   ]
  },
  {
   "cell_type": "code",
   "execution_count": 21,
   "id": "9739e9a5-bc7c-41c4-898a-5b35a9e81a68",
   "metadata": {},
   "outputs": [
    {
     "name": "stdout",
     "output_type": "stream",
     "text": [
      " A dog is sleeping . \n"
     ]
    }
   ],
   "source": [
    "print(translate(transformer, x))"
   ]
  },
  {
   "cell_type": "code",
   "execution_count": 22,
   "id": "86755d50-d8b8-4005-acdf-25ee56518069",
   "metadata": {},
   "outputs": [
    {
     "data": {
      "text/plain": [
       "' Eine Gruppe von Menschen steht vor einem Essensstand . '"
      ]
     },
     "execution_count": 22,
     "metadata": {},
     "output_type": "execute_result"
    }
   ],
   "source": [
    "y= perform_translation_en_to_de(transformer_model_en_to_de, \"A group of people stand in front of an igloo\")\n",
    "y"
   ]
  },
  {
   "cell_type": "code",
   "execution_count": 23,
   "id": "18833fcd-258a-4bf0-bccc-f921f6dd2eb6",
   "metadata": {},
   "outputs": [
    {
     "name": "stdout",
     "output_type": "stream",
     "text": [
      " A group of people stand in front of a food food stand . \n"
     ]
    }
   ],
   "source": [
    "print(translate(transformer, y))"
   ]
  },
  {
   "cell_type": "code",
   "execution_count": 24,
   "id": "42d54662-8318-42e0-9fd8-ff93ad3a3797",
   "metadata": {},
   "outputs": [
    {
     "data": {
      "text/plain": [
       "' Ein Sportler läuft . '"
      ]
     },
     "execution_count": 24,
     "metadata": {},
     "output_type": "execute_result"
    }
   ],
   "source": [
    "x1= perform_translation_en_to_de(transformer_model_en_to_de, \"Cat is running\")\n",
    "x1"
   ]
  },
  {
   "cell_type": "code",
   "execution_count": 25,
   "id": "2fb542ea-a9ae-47dc-9c1a-c5aa9a3401f4",
   "metadata": {},
   "outputs": [
    {
     "name": "stdout",
     "output_type": "stream",
     "text": [
      " A athlete is running . \n"
     ]
    }
   ],
   "source": [
    "print(translate(transformer, x1))"
   ]
  },
  {
   "cell_type": "code",
   "execution_count": 26,
   "id": "5630db8f-ec73-4d88-bf4c-591d4f95455e",
   "metadata": {},
   "outputs": [
    {
     "data": {
      "text/plain": [
       "' Kinder spielen im Park . '"
      ]
     },
     "execution_count": 26,
     "metadata": {},
     "output_type": "execute_result"
    }
   ],
   "source": [
    "x2= perform_translation_en_to_de(transformer_model_en_to_de, \"Children  are playing in the park\")\n",
    "x2"
   ]
  },
  {
   "cell_type": "code",
   "execution_count": 27,
   "id": "277c59d1-911d-472a-be4a-74e621124e62",
   "metadata": {},
   "outputs": [
    {
     "name": "stdout",
     "output_type": "stream",
     "text": [
      " There are kids playing in the park . \n"
     ]
    }
   ],
   "source": [
    "print(translate(transformer, x2))"
   ]
  },
  {
   "cell_type": "markdown",
   "id": "5f0e1b4e-be43-4eec-8544-a1a88e5ab221",
   "metadata": {},
   "source": [
    "If you see the output of x1. and x2 its different from the input. Where we see x1, output is tottle differnet and "
   ]
  },
  {
   "cell_type": "code",
   "execution_count": null,
   "id": "0066cc67-eace-420f-8be2-73505d290089",
   "metadata": {},
   "outputs": [],
   "source": []
  }
 ],
 "metadata": {
  "kernelspec": {
   "display_name": "Python 3 (ipykernel)",
   "language": "python",
   "name": "python3"
  },
  "language_info": {
   "codemirror_mode": {
    "name": "ipython",
    "version": 3
   },
   "file_extension": ".py",
   "mimetype": "text/x-python",
   "name": "python",
   "nbconvert_exporter": "python",
   "pygments_lexer": "ipython3",
   "version": "3.10.13"
  }
 },
 "nbformat": 4,
 "nbformat_minor": 5
}
